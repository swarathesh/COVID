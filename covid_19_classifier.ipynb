{
  "nbformat": 4,
  "nbformat_minor": 0,
  "metadata": {
    "colab": {
      "name": "covid_19 classifier",
      "provenance": [],
      "collapsed_sections": [],
      "toc_visible": true,
      "include_colab_link": true
    },
    "kernelspec": {
      "name": "python3",
      "display_name": "Python 3"
    },
    "accelerator": "GPU"
  },
  "cells": [
    {
      "cell_type": "markdown",
      "metadata": {
        "id": "view-in-github",
        "colab_type": "text"
      },
      "source": [
        "<a href=\"https://colab.research.google.com/github/swarathesh/COVID/blob/master/covid_19_classifier.ipynb\" target=\"_parent\"><img src=\"https://colab.research.google.com/assets/colab-badge.svg\" alt=\"Open In Colab\"/></a>"
      ]
    },
    {
      "cell_type": "markdown",
      "metadata": {
        "id": "hcFrYmIGixwj",
        "colab_type": "text"
      },
      "source": [
        "# Covid 19 Classifier\n"
      ]
    },
    {
      "cell_type": "code",
      "metadata": {
        "id": "oTFkgvxYIgFR",
        "colab_type": "code",
        "colab": {}
      },
      "source": [
        "from google.colab import drive\n",
        "drive.mount('/content/drive')"
      ],
      "execution_count": null,
      "outputs": []
    },
    {
      "cell_type": "code",
      "metadata": {
        "id": "lauxLULgKwrT",
        "colab_type": "code",
        "colab": {
          "base_uri": "https://localhost:8080/",
          "height": 34
        },
        "outputId": "25bf7a62-77dc-4eca-9684-cdf2b99b4fae"
      },
      "source": [
        "cd /content/drive/My Drive/dataset/"
      ],
      "execution_count": null,
      "outputs": [
        {
          "output_type": "stream",
          "text": [
            "/content/drive/My Drive/dataset\n"
          ],
          "name": "stdout"
        }
      ]
    },
    {
      "cell_type": "code",
      "metadata": {
        "id": "tsF8_M8UHyWm",
        "colab_type": "code",
        "colab": {
          "base_uri": "https://localhost:8080/",
          "height": 72
        },
        "outputId": "f9424e5d-4c89-49ad-9ed1-855300776161"
      },
      "source": [
        "from keras.preprocessing.image import ImageDataGenerator\n",
        "from keras.models import Sequential\n",
        "from keras.layers import Conv2D, MaxPooling2D\n",
        "from keras.layers import Activation, Dropout, Flatten, Dense\n",
        "from keras import backend as K\n",
        "from sklearn.metrics import confusion_matrix\n",
        "import numpy as np\n",
        "import pandas as pd\n",
        "from sklearn.metrics import confusion_matrix\n",
        "import matplotlib.pyplot as plt\n",
        "import seaborn as sn\n",
        "\n",
        "import os\n",
        "import zipfile\n",
        "import tensorflow as tf\n",
        "from tensorflow.keras.optimizers import RMSprop\n",
        "from tensorflow.keras.preprocessing.image import ImageDataGenerator\n",
        "from tensorflow.keras import layers\n",
        "from tensorflow.keras import Model"
      ],
      "execution_count": null,
      "outputs": [
        {
          "output_type": "stream",
          "text": [
            "/usr/local/lib/python3.6/dist-packages/statsmodels/tools/_testing.py:19: FutureWarning: pandas.util.testing is deprecated. Use the functions in the public API at pandas.testing instead.\n",
            "  import pandas.util.testing as tm\n"
          ],
          "name": "stderr"
        }
      ]
    },
    {
      "cell_type": "markdown",
      "metadata": {
        "id": "anR00Bfqi6k0",
        "colab_type": "text"
      },
      "source": [
        "# Load the dataset "
      ]
    },
    {
      "cell_type": "code",
      "metadata": {
        "id": "AY9pEZ2WKNga",
        "colab_type": "code",
        "colab": {}
      },
      "source": [
        "img_width, img_height = 150, 150\n",
        "\n",
        "train_data_dir = '/content/drive/My Drive/dataset/co/chest_xray/chest_xray/train'\n",
        "validation_data_dir = '/content/drive/My Drive/dataset/co/chest_xray/chest_xray/test'\n",
        "nb_train_samples = 2000\n",
        "nb_validation_samples = 800\n",
        "epochs = 60\n",
        "batch_size = 16\n",
        "\n",
        "if K.image_data_format() == 'channels_first':\n",
        "    input_shape = (3, img_width, img_height)\n",
        "else:\n",
        "    input_shape = (img_width, img_height, 3)"
      ],
      "execution_count": null,
      "outputs": []
    },
    {
      "cell_type": "markdown",
      "metadata": {
        "id": "urDZrSv-jIGh",
        "colab_type": "text"
      },
      "source": [
        "# Data Augumentation\n",
        "\n",
        "* Train dataset parameters\n",
        "\n",
        "```\n",
        "    rescale=1. / 255,\n",
        "    shear_range=0.2,\n",
        "    zoom_range=0.2,\n",
        "    horizontal_flip=True\n",
        "```\n",
        "\n",
        "* Test dataset parameters\n",
        "\n",
        "\n",
        "\n",
        "```\n",
        "    rescale=1. / 255\n",
        "```\n",
        "\n",
        "\n"
      ]
    },
    {
      "cell_type": "code",
      "metadata": {
        "id": "Sbdr2eS1KfUO",
        "colab_type": "code",
        "colab": {
          "base_uri": "https://localhost:8080/",
          "height": 50
        },
        "outputId": "e3fca1d1-5e73-4a1a-bfb4-2390c28555ff"
      },
      "source": [
        "train_datagen = ImageDataGenerator(\n",
        "    rescale=1. / 255,\n",
        "    shear_range=0.2,\n",
        "    zoom_range=0.2,\n",
        "    horizontal_flip=True)\n",
        "\n",
        "test_datagen = ImageDataGenerator(rescale=1. / 255)\n",
        "\n",
        "\n",
        "train_generator = train_datagen.flow_from_directory(\n",
        "    train_data_dir,\n",
        "    target_size=(img_width, img_height),\n",
        "    batch_size=batch_size,\n",
        "    class_mode='binary')\n",
        "\n",
        "validation_generator = test_datagen.flow_from_directory(\n",
        "    validation_data_dir,\n",
        "    target_size=(img_width, img_height),\n",
        "    batch_size=batch_size,\n",
        "    class_mode='binary')\n",
        "\n"
      ],
      "execution_count": null,
      "outputs": [
        {
          "output_type": "stream",
          "text": [
            "Found 5127 images belonging to 2 classes.\n",
            "Found 624 images belonging to 2 classes.\n"
          ],
          "name": "stdout"
        }
      ]
    },
    {
      "cell_type": "code",
      "metadata": {
        "id": "L9qGcpnRIYJ8",
        "colab_type": "code",
        "colab": {}
      },
      "source": [
        "model = Sequential()\n",
        "model.add(Conv2D(32, (3, 3), input_shape=input_shape))\n",
        "model.add(Activation('relu'))\n",
        "model.add(MaxPooling2D(pool_size=(2, 2)))\n",
        "\n",
        "model.add(Conv2D(32, (3, 3)))\n",
        "model.add(Activation('relu'))\n",
        "model.add(MaxPooling2D(pool_size=(2, 2)))\n",
        "\n",
        "model.add(Conv2D(64, (3, 3)))\n",
        "model.add(Activation('relu'))\n",
        "model.add(MaxPooling2D(pool_size=(2, 2)))\n",
        "\n",
        "model.add(Flatten())\n",
        "model.add(Dense(64))\n",
        "model.add(Activation('relu'))\n",
        "model.add(Dropout(0.5))\n",
        "model.add(Dense(1))\n",
        "model.add(Activation('sigmoid'))"
      ],
      "execution_count": null,
      "outputs": []
    },
    {
      "cell_type": "code",
      "metadata": {
        "id": "kmzW5TbNIehd",
        "colab_type": "code",
        "colab": {}
      },
      "source": [
        "model.compile(loss='binary_crossentropy',\n",
        "              optimizer='rmsprop',\n",
        "              metrics=['accuracy'])\n",
        "\n"
      ],
      "execution_count": null,
      "outputs": []
    },
    {
      "cell_type": "code",
      "metadata": {
        "id": "gl1kfHVCKls-",
        "colab_type": "code",
        "colab": {
          "base_uri": "https://localhost:8080/",
          "height": 423
        },
        "outputId": "774f18f6-c412-4309-b807-9058ab485416"
      },
      "source": [
        "history = model.fit_generator(\n",
        "    train_generator,\n",
        "    steps_per_epoch=nb_train_samples // batch_size,\n",
        "    epochs=10,\n",
        "    validation_data=validation_generator,\n",
        "  )\n",
        "\n",
        "model.save_weights('cnn.h5')"
      ],
      "execution_count": null,
      "outputs": [
        {
          "output_type": "stream",
          "text": [
            "WARNING:tensorflow:From <ipython-input-8-e578cc42e925>:5: Model.fit_generator (from tensorflow.python.keras.engine.training) is deprecated and will be removed in a future version.\n",
            "Instructions for updating:\n",
            "Please use Model.fit, which supports generators.\n",
            "Epoch 1/10\n",
            "125/125 [==============================] - 914s 7s/step - loss: 0.5580 - accuracy: 0.7380 - val_loss: 0.4148 - val_accuracy: 0.7901\n",
            "Epoch 2/10\n",
            "125/125 [==============================] - 406s 3s/step - loss: 0.3636 - accuracy: 0.8255 - val_loss: 0.4539 - val_accuracy: 0.7965\n",
            "Epoch 3/10\n",
            "125/125 [==============================] - 273s 2s/step - loss: 0.3463 - accuracy: 0.8615 - val_loss: 0.5135 - val_accuracy: 0.7933\n",
            "Epoch 4/10\n",
            "125/125 [==============================] - 177s 1s/step - loss: 0.2939 - accuracy: 0.8865 - val_loss: 0.3595 - val_accuracy: 0.8574\n",
            "Epoch 5/10\n",
            "125/125 [==============================] - 118s 946ms/step - loss: 0.2800 - accuracy: 0.8935 - val_loss: 0.3908 - val_accuracy: 0.8157\n",
            "Epoch 6/10\n",
            "125/125 [==============================] - 85s 682ms/step - loss: 0.2614 - accuracy: 0.8950 - val_loss: 0.3090 - val_accuracy: 0.8718\n",
            "Epoch 7/10\n",
            "125/125 [==============================] - 67s 538ms/step - loss: 0.2888 - accuracy: 0.8970 - val_loss: 0.4835 - val_accuracy: 0.7933\n",
            "Epoch 8/10\n",
            "125/125 [==============================] - 51s 410ms/step - loss: 0.2515 - accuracy: 0.8965 - val_loss: 0.4599 - val_accuracy: 0.8253\n",
            "Epoch 9/10\n",
            "125/125 [==============================] - 46s 365ms/step - loss: 0.2490 - accuracy: 0.9145 - val_loss: 0.3642 - val_accuracy: 0.8958\n",
            "Epoch 10/10\n",
            "125/125 [==============================] - 45s 361ms/step - loss: 0.2376 - accuracy: 0.9170 - val_loss: 0.4457 - val_accuracy: 0.8221\n"
          ],
          "name": "stdout"
        }
      ]
    },
    {
      "cell_type": "code",
      "metadata": {
        "id": "q2HMxtU-SgGr",
        "colab_type": "code",
        "colab": {}
      },
      "source": [
        "from matplotlib import pyplot\n",
        "def cm(model,history):\n",
        " scores = model.evaluate_generator(validation_generator) \n",
        " print(\"Accuracy = \", scores[1])\n",
        " pyplot.plot(history.history['loss'], label='train')\n",
        " pyplot.plot(history.history['val_loss'], label='test')\n",
        " pyplot.legend()\n",
        " pyplot.show()\n",
        " predictions = model.predict_generator(validation_generator)\n",
        " predicted_classes = np.argmax(predictions, axis=1)\n",
        " true_classes = validation_generator.classes\n",
        " class_labels = list(validation_generator.class_indices.keys())  \n",
        " cm = confusion_matrix(true_classes, predicted_classes)\n",
        " df = pd.DataFrame(cm)\n",
        " plt.figure()\n",
        " sn.heatmap(df, annot=True)\n",
        " plt.show()  "
      ],
      "execution_count": null,
      "outputs": []
    },
    {
      "cell_type": "code",
      "metadata": {
        "id": "yikW7mLDTBAg",
        "colab_type": "code",
        "colab": {
          "base_uri": "https://localhost:8080/",
          "height": 650
        },
        "outputId": "c3aa5985-d90c-41f9-9c7a-3287625d89fd"
      },
      "source": [
        "cm(model,history)"
      ],
      "execution_count": null,
      "outputs": [
        {
          "output_type": "stream",
          "text": [
            "WARNING:tensorflow:From <ipython-input-9-47fd5381e256>:3: Model.evaluate_generator (from tensorflow.python.keras.engine.training) is deprecated and will be removed in a future version.\n",
            "Instructions for updating:\n",
            "Please use Model.evaluate, which supports generators.\n",
            "Accuracy =  0.8221153616905212\n"
          ],
          "name": "stdout"
        },
        {
          "output_type": "display_data",
          "data": {
            "image/png": "[encoded data removed]",
            "text/plain": [
              "<Figure size 432x288 with 1 Axes>"
            ]
          },
          "metadata": {
            "tags": [],
            "needs_background": "light"
          }
        },
        {
          "output_type": "stream",
          "text": [
            "WARNING:tensorflow:From <ipython-input-9-47fd5381e256>:9: Model.predict_generator (from tensorflow.python.keras.engine.training) is deprecated and will be removed in a future version.\n",
            "Instructions for updating:\n",
            "Please use Model.predict, which supports generators.\n"
          ],
          "name": "stdout"
        },
        {
          "output_type": "display_data",
          "data": {
            "image/png": "[encoded data removed]",
            "text/plain": [
              "<Figure size 432x288 with 2 Axes>"
            ]
          },
          "metadata": {
            "tags": [],
            "needs_background": "light"
          }
        }
      ]
    },
    {
      "cell_type": "markdown",
      "metadata": {
        "id": "7NuddmkWbn3c",
        "colab_type": "text"
      },
      "source": [
        "# Transfer Learning using Incerption V3"
      ]
    },
    {
      "cell_type": "code",
      "metadata": {
        "id": "PjG-mZZoV6_7",
        "colab_type": "code",
        "colab": {}
      },
      "source": [
        "from tensorflow.keras.applications.inception_v3 import InceptionV3"
      ],
      "execution_count": null,
      "outputs": []
    },
    {
      "cell_type": "code",
      "metadata": {
        "id": "Gca_t-B5ZE8E",
        "colab_type": "code",
        "colab": {
          "base_uri": "https://localhost:8080/",
          "height": 70
        },
        "outputId": "a72d60ad-100c-4ef7-87da-e04e480b4b0c"
      },
      "source": [
        "pre_trained_model = InceptionV3(input_shape = (150, 150, 3), # Shape of our images\n",
        "                                include_top = False, # Leave out the last fully connected layer\n",
        "                                weights = 'imagenet')"
      ],
      "execution_count": null,
      "outputs": [
        {
          "output_type": "stream",
          "text": [
            "Downloading data from https://storage.googleapis.com/tensorflow/keras-applications/inception_v3/inception_v3_weights_tf_dim_ordering_tf_kernels_notop.h5\n",
            "87916544/87910968 [==============================] - 1s 0us/step\n"
          ],
          "name": "stdout"
        }
      ]
    },
    {
      "cell_type": "code",
      "metadata": {
        "id": "r_x5p4r2ZNze",
        "colab_type": "code",
        "colab": {}
      },
      "source": [
        "for layer in pre_trained_model.layers:\n",
        "  layer.trainable = False"
      ],
      "execution_count": null,
      "outputs": []
    },
    {
      "cell_type": "code",
      "metadata": {
        "id": "ogQs281AZU1q",
        "colab_type": "code",
        "colab": {}
      },
      "source": [
        "from tensorflow.keras.optimizers import RMSprop\n",
        "\n",
        "# Flatten the output layer to 1 dimension\n",
        "x = layers.Flatten()(pre_trained_model.output)\n",
        "# Add a fully connected layer with 1,024 hidden units and ReLU activation\n",
        "x = layers.Dense(1024, activation='relu')(x)\n",
        "# Add a dropout rate of 0.2\n",
        "x = layers.Dropout(0.2)(x)                  \n",
        "# Add a final sigmoid layer for classification\n",
        "x = layers.Dense  (1, activation='sigmoid')(x)           \n",
        "\n",
        "model = Model( pre_trained_model.input, x) \n",
        "\n",
        "model.compile(optimizer = RMSprop(lr=0.0001), \n",
        "              loss = 'binary_crossentropy', \n",
        "              metrics = ['acc'])\n"
      ],
      "execution_count": null,
      "outputs": []
    },
    {
      "cell_type": "code",
      "metadata": {
        "id": "cc6LIuoWZX86",
        "colab_type": "code",
        "colab": {
          "base_uri": "https://localhost:8080/",
          "height": 353
        },
        "outputId": "63cbc04f-bdca-4f1e-b940-04eda8141e4b"
      },
      "source": [
        "history = model.fit_generator(\n",
        "    train_generator,\n",
        "    steps_per_epoch=nb_train_samples // batch_size,\n",
        "    epochs=10,\n",
        "    validation_data=validation_generator,\n",
        "  )\n",
        "\n",
        "model.save_weights('inception.h5')"
      ],
      "execution_count": null,
      "outputs": [
        {
          "output_type": "stream",
          "text": [
            "Epoch 1/10\n",
            "125/125 [==============================] - 39s 311ms/step - loss: 0.5286 - acc: 0.7443 - val_loss: 0.8798 - val_acc: 0.6250\n",
            "Epoch 2/10\n",
            "125/125 [==============================] - 41s 329ms/step - loss: 0.4725 - acc: 0.7660 - val_loss: 0.5833 - val_acc: 0.6603\n",
            "Epoch 3/10\n",
            "125/125 [==============================] - 39s 309ms/step - loss: 0.4518 - acc: 0.7745 - val_loss: 0.4482 - val_acc: 0.7837\n",
            "Epoch 4/10\n",
            "125/125 [==============================] - 38s 307ms/step - loss: 0.4303 - acc: 0.7905 - val_loss: 0.5597 - val_acc: 0.6971\n",
            "Epoch 5/10\n",
            "125/125 [==============================] - 38s 302ms/step - loss: 0.4115 - acc: 0.8031 - val_loss: 0.4967 - val_acc: 0.7340\n",
            "Epoch 6/10\n",
            "125/125 [==============================] - 38s 308ms/step - loss: 0.4016 - acc: 0.8045 - val_loss: 0.4241 - val_acc: 0.7965\n",
            "Epoch 7/10\n",
            "125/125 [==============================] - 38s 303ms/step - loss: 0.3614 - acc: 0.8370 - val_loss: 0.5292 - val_acc: 0.7051\n",
            "Epoch 8/10\n",
            "125/125 [==============================] - 38s 307ms/step - loss: 0.3551 - acc: 0.8445 - val_loss: 0.4426 - val_acc: 0.7837\n",
            "Epoch 9/10\n",
            "125/125 [==============================] - 38s 307ms/step - loss: 0.3699 - acc: 0.8295 - val_loss: 0.8438 - val_acc: 0.6474\n",
            "Epoch 10/10\n",
            "125/125 [==============================] - 38s 304ms/step - loss: 0.3379 - acc: 0.8415 - val_loss: 0.4895 - val_acc: 0.7612\n"
          ],
          "name": "stdout"
        }
      ]
    },
    {
      "cell_type": "code",
      "metadata": {
        "id": "cmZ2ffRYZkzv",
        "colab_type": "code",
        "colab": {
          "base_uri": "https://localhost:8080/",
          "height": 532
        },
        "outputId": "ae5db226-17a5-4d0c-d2b7-753449c9e5f5"
      },
      "source": [
        "cm(model,history)"
      ],
      "execution_count": null,
      "outputs": [
        {
          "output_type": "stream",
          "text": [
            "Accuracy =  0.7612179517745972\n"
          ],
          "name": "stdout"
        },
        {
          "output_type": "display_data",
          "data": {
            "image/png": "[encoded data removed]",
            "text/plain": [
              "<Figure size 432x288 with 1 Axes>"
            ]
          },
          "metadata": {
            "tags": [],
            "needs_background": "light"
          }
        },
        {
          "output_type": "display_data",
          "data": {
            "image/png": "[encoded data removed]",
            "text/plain": [
              "<Figure size 432x288 with 2 Axes>"
            ]
          },
          "metadata": {
            "tags": [],
            "needs_background": "light"
          }
        }
      ]
    },
    {
      "cell_type": "markdown",
      "metadata": {
        "id": "P_M6x8PlsfAc",
        "colab_type": "text"
      },
      "source": [
        "# VGG16 "
      ]
    },
    {
      "cell_type": "code",
      "metadata": {
        "id": "G-52weFFoFZn",
        "colab_type": "code",
        "colab": {}
      },
      "source": [
        "from tensorflow.keras.applications.vgg16 import VGG16\n"
      ],
      "execution_count": null,
      "outputs": []
    },
    {
      "cell_type": "code",
      "metadata": {
        "id": "hKxJIzlesRzM",
        "colab_type": "code",
        "colab": {}
      },
      "source": [
        "pre_trained_model = VGG16(input_shape = (150, 150, 3), # Shape of our images\n",
        "                                include_top = False, # Leave out the last fully connected layer\n",
        "                                weights = 'imagenet')"
      ],
      "execution_count": null,
      "outputs": []
    },
    {
      "cell_type": "code",
      "metadata": {
        "id": "6RRzRq5dsalV",
        "colab_type": "code",
        "colab": {}
      },
      "source": [
        "for layer in pre_trained_model.layers:\n",
        "  layer.trainable = False"
      ],
      "execution_count": null,
      "outputs": []
    },
    {
      "cell_type": "code",
      "metadata": {
        "id": "D99LzRDIsrKW",
        "colab_type": "code",
        "colab": {}
      },
      "source": [
        "from tensorflow.keras.optimizers import RMSprop\n",
        "\n",
        "# Flatten the output layer to 1 dimension\n",
        "x = layers.Flatten()(pre_trained_model.output)\n",
        "# Add a fully connected layer with 1,024 hidden units and ReLU activation\n",
        "x = layers.Dense(1024, activation='relu')(x)\n",
        "# Add a dropout rate of 0.2\n",
        "x = layers.Dropout(0.2)(x)                  \n",
        "# sigmoid layer for classification\n",
        "x = layers.Dense  (1, activation='sigmoid')(x)           \n",
        "\n",
        "model = Model( pre_trained_model.input, x) \n",
        "\n",
        "model.compile(optimizer = RMSprop(lr=0.0001), \n",
        "              loss = 'binary_crossentropy', \n",
        "              metrics = ['acc'])\n"
      ],
      "execution_count": null,
      "outputs": []
    },
    {
      "cell_type": "code",
      "metadata": {
        "id": "DnKfbhIlswjj",
        "colab_type": "code",
        "colab": {
          "base_uri": "https://localhost:8080/",
          "height": 353
        },
        "outputId": "bcb6ff55-3e43-4bda-ac84-4834c6650448"
      },
      "source": [
        "history = model.fit_generator(\n",
        "    train_generator,\n",
        "    steps_per_epoch=nb_train_samples // batch_size,\n",
        "    epochs=10,\n",
        "    validation_data=validation_generator,\n",
        "  )\n",
        "\n",
        "model.save_weights('vgg15.h5')"
      ],
      "execution_count": null,
      "outputs": [
        {
          "output_type": "stream",
          "text": [
            "Epoch 1/10\n",
            "125/125 [==============================] - 37s 296ms/step - loss: 0.2685 - acc: 0.8905 - val_loss: 0.2741 - val_acc: 0.8862\n",
            "Epoch 2/10\n",
            "125/125 [==============================] - 37s 298ms/step - loss: 0.1659 - acc: 0.9370 - val_loss: 0.2506 - val_acc: 0.9038\n",
            "Epoch 3/10\n",
            "125/125 [==============================] - 37s 297ms/step - loss: 0.1636 - acc: 0.9355 - val_loss: 0.2984 - val_acc: 0.9006\n",
            "Epoch 4/10\n",
            "125/125 [==============================] - 37s 295ms/step - loss: 0.1521 - acc: 0.9480 - val_loss: 0.2753 - val_acc: 0.9071\n",
            "Epoch 5/10\n",
            "125/125 [==============================] - 37s 297ms/step - loss: 0.1330 - acc: 0.9450 - val_loss: 0.5498 - val_acc: 0.8381\n",
            "Epoch 6/10\n",
            "125/125 [==============================] - 38s 301ms/step - loss: 0.1584 - acc: 0.9377 - val_loss: 0.2243 - val_acc: 0.9231\n",
            "Epoch 7/10\n",
            "125/125 [==============================] - 37s 295ms/step - loss: 0.1445 - acc: 0.9463 - val_loss: 0.2361 - val_acc: 0.9199\n",
            "Epoch 8/10\n",
            "125/125 [==============================] - 37s 298ms/step - loss: 0.1312 - acc: 0.9437 - val_loss: 0.2809 - val_acc: 0.9038\n",
            "Epoch 9/10\n",
            "125/125 [==============================] - 38s 301ms/step - loss: 0.1382 - acc: 0.9505 - val_loss: 0.5291 - val_acc: 0.8413\n",
            "Epoch 10/10\n",
            "125/125 [==============================] - 37s 295ms/step - loss: 0.1531 - acc: 0.9520 - val_loss: 0.2316 - val_acc: 0.9119\n"
          ],
          "name": "stdout"
        }
      ]
    },
    {
      "cell_type": "code",
      "metadata": {
        "id": "ymUegWGVs94j",
        "colab_type": "code",
        "colab": {
          "base_uri": "https://localhost:8080/",
          "height": 530
        },
        "outputId": "27701ad6-fa4a-416f-b5df-d11127ab716d"
      },
      "source": [
        "cm(model,history)"
      ],
      "execution_count": null,
      "outputs": [
        {
          "output_type": "stream",
          "text": [
            "Accuracy =  0.9118589758872986\n"
          ],
          "name": "stdout"
        },
        {
          "output_type": "display_data",
          "data": {
            "image/png": "[encoded data removed]",
            "text/plain": [
              "<Figure size 432x288 with 1 Axes>"
            ]
          },
          "metadata": {
            "tags": [],
            "needs_background": "light"
          }
        },
        {
          "output_type": "display_data",
          "data": {
            "image/png": "[encoded data removed]",
            "text/plain": [
              "<Figure size 432x288 with 2 Axes>"
            ]
          },
          "metadata": {
            "tags": [],
            "needs_background": "light"
          }
        }
      ]
    },
    {
      "cell_type": "markdown",
      "metadata": {
        "id": "NZokMd5ptYyQ",
        "colab_type": "text"
      },
      "source": [
        "# ResNet50"
      ]
    },
    {
      "cell_type": "code",
      "metadata": {
        "id": "9-AaUL1otLtf",
        "colab_type": "code",
        "colab": {}
      },
      "source": [
        "from keras.applications.resnet50 import ResNet50"
      ],
      "execution_count": null,
      "outputs": []
    },
    {
      "cell_type": "code",
      "metadata": {
        "id": "yoot9dWTtkFK",
        "colab_type": "code",
        "colab": {}
      },
      "source": [
        "pre_trained_model = ResNet50(input_shape = (150, 150, 3), # Shape of our images\n",
        "                                include_top = False, # Leave out the last fully connected layer\n",
        "                                weights = 'imagenet')"
      ],
      "execution_count": null,
      "outputs": []
    },
    {
      "cell_type": "code",
      "metadata": {
        "id": "1b29MT0VuVNs",
        "colab_type": "code",
        "colab": {}
      },
      "source": [
        "for layer in pre_trained_model.layers:\n",
        "  layer.trainable = False"
      ],
      "execution_count": null,
      "outputs": []
    },
    {
      "cell_type": "markdown",
      "metadata": {
        "id": "mVRooGwxuam1",
        "colab_type": "text"
      },
      "source": [
        ""
      ]
    },
    {
      "cell_type": "code",
      "metadata": {
        "id": "qXgMn4uYua3E",
        "colab_type": "code",
        "colab": {}
      },
      "source": [
        "from tensorflow.keras.optimizers import RMSprop\n",
        "\n",
        "# Flatten the output layer to 1 dimension\n",
        "x = layers.Flatten()(pre_trained_model.output)\n",
        "# Add a fully connected layer with 1,024 hidden units and ReLU activation\n",
        "x = layers.Dense(1024, activation='relu')(x)\n",
        "# Add a dropout rate of 0.2\n",
        "x = layers.Dropout(0.2)(x)                  \n",
        "# Add a final sigmoid layer for classification\n",
        "x = layers.Dense  (1, activation='sigmoid')(x)           \n",
        "\n",
        "model = Model( pre_trained_model.input, x) \n",
        "\n",
        "model.compile(optimizer = RMSprop(lr=0.0001), \n",
        "              loss = 'binary_crossentropy', \n",
        "              metrics = ['acc'])\n"
      ],
      "execution_count": null,
      "outputs": []
    },
    {
      "cell_type": "code",
      "metadata": {
        "id": "tWexJzQdubMP",
        "colab_type": "code",
        "colab": {
          "base_uri": "https://localhost:8080/",
          "height": 353
        },
        "outputId": "7cdd12d6-4e4b-489b-f0ab-fd6f602fd163"
      },
      "source": [
        "history = model.fit_generator(\n",
        "    train_generator,\n",
        "    steps_per_epoch=nb_train_samples // batch_size,\n",
        "    epochs=10,\n",
        "    validation_data=validation_generator,\n",
        "  )\n",
        "\n",
        "model.save_weights('vgg15.h5')"
      ],
      "execution_count": null,
      "outputs": [
        {
          "output_type": "stream",
          "text": [
            "Epoch 1/10\n",
            "125/125 [==============================] - 38s 306ms/step - loss: 0.6894 - acc: 0.6820 - val_loss: 0.8675 - val_acc: 0.6250\n",
            "Epoch 2/10\n",
            "125/125 [==============================] - 37s 296ms/step - loss: 0.5312 - acc: 0.7450 - val_loss: 0.7977 - val_acc: 0.6250\n",
            "Epoch 3/10\n",
            "125/125 [==============================] - 38s 301ms/step - loss: 0.4992 - acc: 0.7615 - val_loss: 0.5774 - val_acc: 0.6651\n",
            "Epoch 4/10\n",
            "125/125 [==============================] - 38s 301ms/step - loss: 0.4599 - acc: 0.7805 - val_loss: 0.5469 - val_acc: 0.6843\n",
            "Epoch 5/10\n",
            "125/125 [==============================] - 37s 296ms/step - loss: 0.4073 - acc: 0.8030 - val_loss: 0.6062 - val_acc: 0.6747\n",
            "Epoch 6/10\n",
            "125/125 [==============================] - 37s 299ms/step - loss: 0.3848 - acc: 0.8180 - val_loss: 0.8234 - val_acc: 0.6362\n",
            "Epoch 7/10\n",
            "125/125 [==============================] - 38s 305ms/step - loss: 0.3857 - acc: 0.8180 - val_loss: 0.4108 - val_acc: 0.8077\n",
            "Epoch 8/10\n",
            "125/125 [==============================] - 37s 297ms/step - loss: 0.3657 - acc: 0.8317 - val_loss: 0.3699 - val_acc: 0.8462\n",
            "Epoch 9/10\n",
            "125/125 [==============================] - 38s 302ms/step - loss: 0.3814 - acc: 0.8155 - val_loss: 0.5822 - val_acc: 0.6955\n",
            "Epoch 10/10\n",
            "125/125 [==============================] - 38s 301ms/step - loss: 0.3561 - acc: 0.8345 - val_loss: 0.4099 - val_acc: 0.8173\n"
          ],
          "name": "stdout"
        }
      ]
    },
    {
      "cell_type": "code",
      "metadata": {
        "id": "-Q5kDVXbuhNG",
        "colab_type": "code",
        "colab": {
          "base_uri": "https://localhost:8080/",
          "height": 530
        },
        "outputId": "996d2b51-e878-43db-ec09-7148c70b11af"
      },
      "source": [
        "cm(model,history)"
      ],
      "execution_count": null,
      "outputs": [
        {
          "output_type": "stream",
          "text": [
            "Accuracy =  0.817307710647583\n"
          ],
          "name": "stdout"
        },
        {
          "output_type": "display_data",
          "data": {
            "image/png": "[encoded data removed]",
            "text/plain": [
              "<Figure size 432x288 with 1 Axes>"
            ]
          },
          "metadata": {
            "tags": [],
            "needs_background": "light"
          }
        },
        {
          "output_type": "display_data",
          "data": {
            "image/png": "[encoded data removed]",
            "text/plain": [
              "<Figure size 432x288 with 2 Axes>"
            ]
          },
          "metadata": {
            "tags": [],
            "needs_background": "light"
          }
        }
      ]
    },
    {
      "cell_type": "code",
      "metadata": {
        "id": "1XlEa81ZwM1I",
        "colab_type": "code",
        "colab": {}
      },
      "source": [
        ""
      ],
      "execution_count": null,
      "outputs": []
    }
  ]
}